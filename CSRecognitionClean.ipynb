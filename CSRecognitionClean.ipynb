{
 "cells": [
  {
   "cell_type": "code",
   "execution_count": 4,
   "metadata": {},
   "outputs": [],
   "source": [
    "#Import libraries\n",
    "import os\n",
    "import numpy as np\n",
    "import tensorflow as tf\n",
    "import matplotlib.pyplot as plt\n",
    "from sklearn import metrics, svm, naive_bayes\n",
    "from PIL import Image"
   ]
  },
  {
   "cell_type": "code",
   "execution_count": 2,
   "metadata": {},
   "outputs": [],
   "source": [
    "#Function to extract labels from files\n",
    "def extract_labels(file_path):\n",
    "    with open(file_path) as file_labels:\n",
    "\n",
    "        file_lines = file_labels.readlines()\n",
    "\n",
    "        file_shape_labels= [None] * len(file_lines)\n",
    "        file_position_labels = [None] * len(file_lines)\n",
    "        file_phoneme_labels = [None] * len(file_lines)\n",
    "        file_second_phoneme_label = [None] * len(file_lines)\n",
    "        \n",
    "        for i, line in enumerate(file_lines):\n",
    "            file_line = line.split()\n",
    "\n",
    "            file_shape_labels[i]  = int(file_line[1])\n",
    "            file_position_labels[i] = int(file_line[2])\n",
    "            file_phoneme_labels[i] = int(file_line[3])\n",
    "            file_second_phoneme_label[i] = int(file_line[4])\n",
    "            \n",
    "    return np.array(file_shape_labels), np.array(file_position_labels), np.array(file_phoneme_labels), np.array(file_second_phoneme_label)"
   ]
  },
  {
   "cell_type": "code",
   "execution_count": 3,
   "metadata": {},
   "outputs": [],
   "source": [
    "#Funtion to randomly shuffle data\n",
    "def shuffle_data(images, shape_labels, position_labels, phoneme_labels, second_phoneme_labels):\n",
    "    #index = np.arange(len(labels))\n",
    "    #np.shuffle(index)\n",
    "    index = np.random.choice(np.arange(len(phoneme_labels)), replace = False, size = len(phoneme_labels))\n",
    "    \n",
    "    shuffled_images = images[index]\n",
    "    shuffled_shape_labels = shape_labels[index]\n",
    "    shuffled_position_labels = position_labels[index]\n",
    "    shuffled_phoneme_labels = phoneme_labels[index]\n",
    "    shuffled_second_phoneme_labels = second_phoneme_labels[index]\n",
    "    return shuffled_images, shuffled_shape_labels, shuffled_position_labels, shuffled_phoneme_labels, shuffled_second_phoneme_labels"
   ]
  },
  {
   "cell_type": "code",
   "execution_count": 4,
   "metadata": {},
   "outputs": [],
   "source": [
    "#Function to split data\n",
    "def split_data(data, split_ratio=0.9):\n",
    "    partition = round(len(data) * split_ratio)\n",
    "    \n",
    "    train = data[:partition]\n",
    "    test = data[partition:]\n",
    "    return train, test"
   ]
  },
  {
   "cell_type": "code",
   "execution_count": 5,
   "metadata": {},
   "outputs": [],
   "source": [
    "#Function to prepare dataset to input network\n",
    "def create_dataset(image_dir):\n",
    "    dataset = []\n",
    "    for image_name in os.listdir(image_dir):\n",
    "        image = Image.open(image_dir + image_name)\n",
    "        image_as_array = np.asarray(image)\n",
    "        dataset.append(image_as_array)\n",
    "    return np.array(dataset)"
   ]
  },
  {
   "cell_type": "code",
   "execution_count": 6,
   "metadata": {},
   "outputs": [],
   "source": [
    "#Function to prepare dataset as grey images to input network\n",
    "def create_grey_dataset(image_dir):\n",
    "    grey_dataset = []\n",
    "    for image_name in os.listdir(image_dir):\n",
    "        image = Image.open(image_dir + image_name)\n",
    "        image_as_array = np.asarray(image)\n",
    "        r, g, b = image_as_array[:,:,0], image_as_array[:,:,1], image_as_array[:,:,2]\n",
    "        grey_image = (0.3*r) + (0.59*g) +(0.11*b)\n",
    "        grey_dataset.append(grey_image)\n",
    "    return np.array(grey_dataset)"
   ]
  },
  {
   "cell_type": "code",
   "execution_count": 7,
   "metadata": {},
   "outputs": [],
   "source": [
    "#Function to concatenate outputs of two networks into single vector\n",
    "def join_outputs(out1, out2):\n",
    "    joint_output = []\n",
    "    for i in range(len(out1)):\n",
    "        joint = np.concatenate((out1[i],out2[i]))\n",
    "        joint_output.append(joint)\n",
    "    return np.array(joint_output)"
   ]
  },
  {
   "cell_type": "code",
   "execution_count": 1,
   "metadata": {},
   "outputs": [],
   "source": [
    "#Function to plot training and validation loss and accuracy\n",
    "def plot_training_results(history, epochs = 5):\n",
    "    \n",
    "    loss=history.history['loss']\n",
    "    val_loss=history.history['val_loss']\n",
    "    \n",
    "    acc = history.history['accuracy']\n",
    "    val_acc = history.history['val_accuracy']\n",
    "\n",
    "    epochs_range = range(epochs)\n",
    "\n",
    "    plt.figure(figsize=(8, 8))\n",
    "    plt.subplot(1, 2, 1)\n",
    "    plt.plot(epochs_range, loss, label='Training Loss')\n",
    "    plt.plot(epochs_range, val_loss, label='Validation Loss')\n",
    "    plt.legend(loc='upper right')\n",
    "    plt.title('Training and Validation Loss')\n",
    "    \n",
    "    plt.subplot(1, 2, 2)\n",
    "    plt.plot(epochs_range, acc, label='Training Accuracy')\n",
    "    plt.plot(epochs_range, val_acc, label='Validation Accuracy')\n",
    "    plt.legend(loc='lower right')\n",
    "    plt.title('Training and Validation Accuracy')\n",
    "\n",
    "    plt.show()\n",
    "    return"
   ]
  },
  {
   "cell_type": "code",
   "execution_count": 8,
   "metadata": {},
   "outputs": [],
   "source": [
    "#Open image folders\n",
    "consonants_dir = os.path.join('/Users/User/Desktop/MSc Project/English Cued Speech/ConsonantImages/')\n",
    "vowels_dir = os.path.join('/Users/User/Desktop/MSc Project/English Cued Speech/VowelImages/')\n",
    "combined_dir = os.path.join('/Users/User/Desktop/MSc Project/English Cued Speech/PhonemeImages/')\n",
    "\n",
    "#Open label files\n",
    "consonant_labels = \"/Users/User/Desktop/MSc Project/English Cued Speech/Labels_Consonant.txt\"\n",
    "vowel_labels = \"/Users/User/Desktop/MSc Project/English Cued Speech/Labels_Vowel.txt\"\n",
    "combined_labels = \"/Users/User/Desktop/MSc Project/English Cued Speech/Labels_All.txt\""
   ]
  },
  {
   "cell_type": "code",
   "execution_count": 9,
   "metadata": {},
   "outputs": [],
   "source": [
    "#Extract labels\n",
    "(vowel_shape_labels, vowel_position_labels, vowel_phoneme_labels, not_used) = extract_labels(vowel_labels)\n",
    "(consonant_shape_labels, consonant_position_labels, consonant_phoneme_labels, or_this) = extract_labels(consonant_labels)\n",
    "(combined_shape_labels, combined_position_labels, combined_consonant_labels, combined_vowel_labels) = extract_labels(combined_labels)"
   ]
  },
  {
   "cell_type": "code",
   "execution_count": 10,
   "metadata": {},
   "outputs": [],
   "source": [
    "#Vowels Model"
   ]
  },
  {
   "cell_type": "code",
   "execution_count": 11,
   "metadata": {},
   "outputs": [],
   "source": [
    "#Prepare images of vowels to input into network\n",
    "vowel_images = create_dataset(vowels_dir)\n",
    "vowel_images = vowel_images.reshape(len(vowel_images), 256, 256, 3)"
   ]
  },
  {
   "cell_type": "code",
   "execution_count": 12,
   "metadata": {},
   "outputs": [],
   "source": [
    "#Randomly shuffle vowel images and labels\n",
    "shuffled_vowels, shuffled_vowel_shape_labels, shuffled_vowel_position_labels, shuffled_vowel_phoneme_labels, non_used = shuffle_data(vowel_images, vowel_shape_labels, vowel_position_labels, vowel_phoneme_labels, not_used)\n",
    "\n",
    "#Split training and test data\n",
    "vowel_train, vowel_test = split_data(shuffled_vowels)\n",
    "vowel_shape_labels_train, vowel_shape_labels_test = split_data(shuffled_vowel_shape_labels)\n",
    "vowel_position_labels_train, vowel_position_labels_test = split_data(shuffled_vowel_position_labels)\n",
    "vowel_phoneme_labels_train, vowel_phoneme_labels_test = split_data(shuffled_vowel_phoneme_labels)"
   ]
  },
  {
   "cell_type": "code",
   "execution_count": 13,
   "metadata": {},
   "outputs": [
    {
     "name": "stdout",
     "output_type": "stream",
     "text": [
      "Epoch 1/5\n",
      "33/33 [==============================] - 37s 1s/step - loss: 0.9243 - accuracy: 0.6586\n",
      "Epoch 2/5\n",
      "33/33 [==============================] - 37s 1s/step - loss: 0.2788 - accuracy: 0.9069\n",
      "Epoch 3/5\n",
      "33/33 [==============================] - 38s 1s/step - loss: 0.1680 - accuracy: 0.9564\n",
      "Epoch 4/5\n",
      "33/33 [==============================] - 38s 1s/step - loss: 0.1467 - accuracy: 0.9661\n",
      "Epoch 5/5\n",
      "33/33 [==============================] - 38s 1s/step - loss: 0.1159 - accuracy: 0.9699\n"
     ]
    },
    {
     "data": {
      "text/plain": [
       "<tensorflow.python.keras.callbacks.History at 0x1b9ac5eddc8>"
      ]
     },
     "execution_count": 13,
     "metadata": {},
     "output_type": "execute_result"
    }
   ],
   "source": [
    "#Build the network to recognise hand position\n",
    "hand_position_model = tf.keras.models.Sequential([\n",
    "  tf.keras.layers.experimental.preprocessing.Rescaling(1./255, input_shape=(256, 256, 3)),\n",
    "  tf.keras.layers.Conv2D(8, (3, 3), activation='relu'),\n",
    "  tf.keras.layers.MaxPooling2D(2, 2),\n",
    "  tf.keras.layers.Conv2D(8, (3, 3), activation='relu'),\n",
    "  tf.keras.layers.MaxPooling2D(2,2),\n",
    "  tf.keras.layers.Conv2D(8, (3, 3), activation='relu'),\n",
    "  tf.keras.layers.MaxPooling2D(2,2),\n",
    "  tf.keras.layers.Flatten(),\n",
    "  tf.keras.layers.Dense(128, activation='relu'),\n",
    "  tf.keras.layers.Dense(5, activation='softmax')\n",
    "])\n",
    "\n",
    "#Compile the network\n",
    "hand_position_model.compile(optimizer='adam', loss='sparse_categorical_crossentropy', metrics=['accuracy'])\n",
    "\n",
    "#Train the network\n",
    "hand_position_model.fit(vowel_train, vowel_position_labels_train, epochs=5)"
   ]
  },
  {
   "cell_type": "code",
   "execution_count": 14,
   "metadata": {},
   "outputs": [
    {
     "name": "stdout",
     "output_type": "stream",
     "text": [
      "4/4 [==============================] - 1s 323ms/step - loss: 0.2910 - accuracy: 0.9739\n",
      "Test loss: 0.2909955680370331, Test accuracy: 97.39130139350891\n"
     ]
    }
   ],
   "source": [
    "#Test the network and print it's performance\n",
    "hand_position_test_loss, hand_position_test_accuracy = hand_position_model.evaluate(vowel_test, vowel_position_labels_test)\n",
    "print ('Test loss: {}, Test accuracy: {}'.format(hand_position_test_loss, hand_position_test_accuracy*100))"
   ]
  },
  {
   "cell_type": "code",
   "execution_count": 93,
   "metadata": {},
   "outputs": [
    {
     "name": "stdout",
     "output_type": "stream",
     "text": [
      "Epoch 1/5\n",
      "33/33 [==============================] - 71s 2s/step - loss: 2.0246 - accuracy: 0.4035\n",
      "Epoch 2/5\n",
      "33/33 [==============================] - 21s 643ms/step - loss: 1.3260 - accuracy: 0.5761\n",
      "Epoch 3/5\n",
      "33/33 [==============================] - 22s 655ms/step - loss: 1.0437 - accuracy: 0.6178\n",
      "Epoch 4/5\n",
      "33/33 [==============================] - 22s 656ms/step - loss: 0.9208 - accuracy: 0.6382\n",
      "Epoch 5/5\n",
      "33/33 [==============================] - 21s 648ms/step - loss: 0.8423 - accuracy: 0.6683\n"
     ]
    },
    {
     "data": {
      "text/plain": [
       "<tensorflow.python.keras.callbacks.History at 0x1b9e16387c8>"
      ]
     },
     "execution_count": 93,
     "metadata": {},
     "output_type": "execute_result"
    }
   ],
   "source": [
    "#Build network to recognise vowel phoneme\n",
    "vowel_phoneme_model = tf.keras.models.Sequential([\n",
    "  tf.keras.layers.experimental.preprocessing.Rescaling(1./255, input_shape=(256, 256, 3)),\n",
    "  tf.keras.layers.Conv2D(8, (3, 3), activation='relu'),\n",
    "  tf.keras.layers.MaxPooling2D(2, 2),\n",
    "  tf.keras.layers.Conv2D(8, (3, 3), activation='relu'),\n",
    "  tf.keras.layers.MaxPooling2D(2,2),\n",
    "  tf.keras.layers.Flatten(),\n",
    "  tf.keras.layers.Dense(128, activation='relu'),\n",
    "  tf.keras.layers.Dense(13, activation='softmax')\n",
    "])\n",
    "\n",
    "#Complie the network\n",
    "vowel_phoneme_model.compile(optimizer='adam', loss='sparse_categorical_crossentropy', metrics=['accuracy'])\n",
    "\n",
    "#Train the network\n",
    "vowel_phoneme_model.fit(vowel_train, vowel_phoneme_labels_train, epochs=5)"
   ]
  },
  {
   "cell_type": "code",
   "execution_count": 94,
   "metadata": {},
   "outputs": [
    {
     "name": "stdout",
     "output_type": "stream",
     "text": [
      "4/4 [==============================] - 1s 216ms/step - loss: 0.8819 - accuracy: 0.6174\n",
      "Test loss: 0.8819363117218018, Test accuracy: 61.739128828048706\n"
     ]
    }
   ],
   "source": [
    "#Test the network and print it's performance\n",
    "vowel_phoneme_test_loss, vowel_phoneme_test_accuracy = vowel_phoneme_model.evaluate(vowel_test, vowel_phoneme_labels_test)\n",
    "print ('Test loss: {}, Test accuracy: {}'.format(vowel_phoneme_test_loss, vowel_phoneme_test_accuracy*100))"
   ]
  },
  {
   "cell_type": "code",
   "execution_count": 95,
   "metadata": {},
   "outputs": [],
   "source": [
    "#Obtain decisions from both networks and concatenate into a single decision vector\n",
    "hand_position_decision = hand_position_model(vowel_train)\n",
    "\n",
    "vowel_phoneme_decision = vowel_phoneme_model(vowel_train)\n",
    "\n",
    "vowel_decision = join_outputs(hand_position_decision, vowel_phoneme_decision)"
   ]
  },
  {
   "cell_type": "code",
   "execution_count": 96,
   "metadata": {},
   "outputs": [],
   "source": [
    "#Obtain test vectors to test network on\n",
    "hand_position_decision_test = hand_position_model(vowel_test)\n",
    "\n",
    "vowel_phoneme_decision_test = vowel_phoneme_model(vowel_test)\n",
    "\n",
    "vowel_decision_test = join_outputs(hand_position_decision_test, vowel_phoneme_decision_test)"
   ]
  },
  {
   "cell_type": "code",
   "execution_count": 97,
   "metadata": {
    "scrolled": true
   },
   "outputs": [
    {
     "name": "stdout",
     "output_type": "stream",
     "text": [
      "Epoch 1/30\n",
      "33/33 [==============================] - 0s 4ms/step - loss: 2.6149 - accuracy: 0.0863\n",
      "Epoch 2/30\n",
      "33/33 [==============================] - 0s 2ms/step - loss: 2.4474 - accuracy: 0.3307\n",
      "Epoch 3/30\n",
      "33/33 [==============================] - 0s 3ms/step - loss: 2.2898 - accuracy: 0.4161\n",
      "Epoch 4/30\n",
      "33/33 [==============================] - 0s 2ms/step - loss: 2.1227 - accuracy: 0.4549\n",
      "Epoch 5/30\n",
      "33/33 [==============================] - 0s 1ms/step - loss: 1.9520 - accuracy: 0.6421\n",
      "Epoch 6/30\n",
      "33/33 [==============================] - 0s 1ms/step - loss: 1.7838 - accuracy: 0.6499\n",
      "Epoch 7/30\n",
      "33/33 [==============================] - 0s 1ms/step - loss: 1.6190 - accuracy: 0.6489\n",
      "Epoch 8/30\n",
      "33/33 [==============================] - 0s 1ms/step - loss: 1.4630 - accuracy: 0.6499\n",
      "Epoch 9/30\n",
      "33/33 [==============================] - 0s 2ms/step - loss: 1.3314 - accuracy: 0.6508\n",
      "Epoch 10/30\n",
      "33/33 [==============================] - 0s 1ms/step - loss: 1.2271 - accuracy: 0.6508\n",
      "Epoch 11/30\n",
      "33/33 [==============================] - 0s 1ms/step - loss: 1.1488 - accuracy: 0.6499\n",
      "Epoch 12/30\n",
      "33/33 [==============================] - 0s 1ms/step - loss: 1.0914 - accuracy: 0.6489\n",
      "Epoch 13/30\n",
      "33/33 [==============================] - 0s 1ms/step - loss: 1.0479 - accuracy: 0.6489\n",
      "Epoch 14/30\n",
      "33/33 [==============================] - 0s 1ms/step - loss: 1.0127 - accuracy: 0.6489\n",
      "Epoch 15/30\n",
      "33/33 [==============================] - 0s 1ms/step - loss: 0.9855 - accuracy: 0.6508\n",
      "Epoch 16/30\n",
      "33/33 [==============================] - 0s 1ms/step - loss: 0.9611 - accuracy: 0.6528\n",
      "Epoch 17/30\n",
      "33/33 [==============================] - 0s 3ms/step - loss: 0.9426 - accuracy: 0.6547\n",
      "Epoch 18/30\n",
      "33/33 [==============================] - 0s 2ms/step - loss: 0.9248 - accuracy: 0.6557\n",
      "Epoch 19/30\n",
      "33/33 [==============================] - 0s 1ms/step - loss: 0.9103 - accuracy: 0.6557\n",
      "Epoch 20/30\n",
      "33/33 [==============================] - 0s 1ms/step - loss: 0.8975 - accuracy: 0.6566\n",
      "Epoch 21/30\n",
      "33/33 [==============================] - 0s 1ms/step - loss: 0.8862 - accuracy: 0.6566\n",
      "Epoch 22/30\n",
      "33/33 [==============================] - 0s 1ms/step - loss: 0.8759 - accuracy: 0.6586\n",
      "Epoch 23/30\n",
      "33/33 [==============================] - 0s 2ms/step - loss: 0.8669 - accuracy: 0.6615\n",
      "Epoch 24/30\n",
      "33/33 [==============================] - 0s 1ms/step - loss: 0.8588 - accuracy: 0.6644\n",
      "Epoch 25/30\n",
      "33/33 [==============================] - 0s 1ms/step - loss: 0.8501 - accuracy: 0.6693\n",
      "Epoch 26/30\n",
      "33/33 [==============================] - 0s 1ms/step - loss: 0.8431 - accuracy: 0.6722\n",
      "Epoch 27/30\n",
      "33/33 [==============================] - 0s 1ms/step - loss: 0.8365 - accuracy: 0.6712\n",
      "Epoch 28/30\n",
      "33/33 [==============================] - 0s 1ms/step - loss: 0.8308 - accuracy: 0.6712\n",
      "Epoch 29/30\n",
      "33/33 [==============================] - 0s 1ms/step - loss: 0.8256 - accuracy: 0.6741\n",
      "Epoch 30/30\n",
      "33/33 [==============================] - 0s 1ms/step - loss: 0.8198 - accuracy: 0.6751\n"
     ]
    },
    {
     "data": {
      "text/plain": [
       "<tensorflow.python.keras.callbacks.History at 0x1b9f56e7b48>"
      ]
     },
     "execution_count": 97,
     "metadata": {},
     "output_type": "execute_result"
    }
   ],
   "source": [
    "#Build network to make final decision of phoneme\n",
    "vowel_decision_model = tf.keras.models.Sequential([\n",
    "  tf.keras.layers.Dense(16, activation='relu'),\n",
    "  tf.keras.layers.Dense(13, activation='softmax')\n",
    "])\n",
    "\n",
    "#Compile network\n",
    "vowel_decision_model.compile(optimizer='adam', loss='sparse_categorical_crossentropy', metrics=['accuracy'])\n",
    "\n",
    "#Train network\n",
    "vowel_decision_model.fit(vowel_decision, vowel_phoneme_labels_train, epochs=30)"
   ]
  },
  {
   "cell_type": "code",
   "execution_count": 98,
   "metadata": {},
   "outputs": [
    {
     "name": "stdout",
     "output_type": "stream",
     "text": [
      "4/4 [==============================] - 0s 1ms/step - loss: 0.9441 - accuracy: 0.6087\n",
      "Test loss: 0.9441329836845398, Test accuracy: 60.86956262588501\n"
     ]
    }
   ],
   "source": [
    "#Test network and print result\n",
    "vowel_test_loss, vowel_test_accuracy = vowel_decision_model.evaluate(vowel_decision_test, vowel_phoneme_labels_test)\n",
    "print ('Test loss: {}, Test accuracy: {}'.format(vowel_test_loss, vowel_test_accuracy*100))"
   ]
  },
  {
   "cell_type": "code",
   "execution_count": 21,
   "metadata": {},
   "outputs": [],
   "source": [
    "#Consonants Model"
   ]
  },
  {
   "cell_type": "code",
   "execution_count": 22,
   "metadata": {},
   "outputs": [],
   "source": [
    "#Prepare images of consonants to input into network\n",
    "consonant_images = create_dataset(consonants_dir)\n",
    "consonant_images = consonant_images.reshape(len(consonant_images), 256, 256, 3)"
   ]
  },
  {
   "cell_type": "code",
   "execution_count": 23,
   "metadata": {},
   "outputs": [],
   "source": [
    "#Randomly shuffle consonant images and labels\n",
    "shuffled_consonants, shuffled_consonant_shape_labels, shuffled_consonant_position_labels, shuffled_consonant_phoneme_labels, nor_this = shuffle_data(consonant_images, consonant_shape_labels, consonant_position_labels, consonant_phoneme_labels, or_this)\n",
    "\n",
    "#Split training and test data\n",
    "consonant_train, consonant_test = split_data(shuffled_consonants)\n",
    "consonant_shape_labels_train, consonant_shape_labels_test = split_data(shuffled_consonant_shape_labels)\n",
    "consonant_position_labels_train, consonant_position_labels_test = split_data(shuffled_consonant_position_labels)\n",
    "consonant_phoneme_labels_train, consonant_phoneme_labels_test = split_data(shuffled_consonant_phoneme_labels)"
   ]
  },
  {
   "cell_type": "code",
   "execution_count": 102,
   "metadata": {},
   "outputs": [
    {
     "name": "stdout",
     "output_type": "stream",
     "text": [
      "Epoch 1/5\n",
      "43/43 [==============================] - 30s 695ms/step - loss: 1.9746 - accuracy: 0.2424\n",
      "Epoch 2/5\n",
      "43/43 [==============================] - 28s 648ms/step - loss: 1.7619 - accuracy: 0.3632\n",
      "Epoch 3/5\n",
      "43/43 [==============================] - 28s 647ms/step - loss: 1.3836 - accuracy: 0.5337\n",
      "Epoch 4/5\n",
      "43/43 [==============================] - 29s 664ms/step - loss: 1.0310 - accuracy: 0.6464\n",
      "Epoch 5/5\n",
      "43/43 [==============================] - 30s 688ms/step - loss: 0.6363 - accuracy: 0.7902\n"
     ]
    },
    {
     "data": {
      "text/plain": [
       "<tensorflow.python.keras.callbacks.History at 0x1b9f583f688>"
      ]
     },
     "execution_count": 102,
     "metadata": {},
     "output_type": "execute_result"
    }
   ],
   "source": [
    "#Build the network to recognise hand shape\n",
    "hand_shape_model = tf.keras.models.Sequential([\n",
    "  tf.keras.layers.experimental.preprocessing.Rescaling(1./255, input_shape=(256, 256, 3)),\n",
    "  tf.keras.layers.Conv2D(8, (3, 3), activation='relu'),\n",
    "  tf.keras.layers.MaxPooling2D(2, 2),\n",
    "  tf.keras.layers.Conv2D(8, (3, 3), activation='relu'),\n",
    "  tf.keras.layers.MaxPooling2D(2,2),\n",
    "  tf.keras.layers.Flatten(),\n",
    "  tf.keras.layers.Dense(128, activation='relu'),\n",
    "  tf.keras.layers.Dense(9, activation='softmax')\n",
    "])\n",
    "\n",
    "#Compile the network\n",
    "hand_shape_model.compile(optimizer='adam', loss='sparse_categorical_crossentropy', metrics=['accuracy'])\n",
    "\n",
    "#Train the network\n",
    "hand_shape_model.fit(consonant_train, consonant_shape_labels_train, epochs=5)"
   ]
  },
  {
   "cell_type": "code",
   "execution_count": 103,
   "metadata": {},
   "outputs": [
    {
     "name": "stdout",
     "output_type": "stream",
     "text": [
      "5/5 [==============================] - 1s 210ms/step - loss: 0.7781 - accuracy: 0.6933\n",
      "Test loss: 0.7780782580375671, Test accuracy: 69.33333277702332\n"
     ]
    }
   ],
   "source": [
    "#Test the network and print it's performance\n",
    "hand_shape_test_loss, hand_shape_test_accuracy = hand_shape_model.evaluate(consonant_test, consonant_shape_labels_test)\n",
    "print ('Test loss: {}, Test accuracy: {}'.format(hand_shape_test_loss, hand_shape_test_accuracy*100))"
   ]
  },
  {
   "cell_type": "code",
   "execution_count": 104,
   "metadata": {},
   "outputs": [
    {
     "name": "stdout",
     "output_type": "stream",
     "text": [
      "Epoch 1/5\n",
      "43/43 [==============================] - 32s 733ms/step - loss: 3.0141 - accuracy: 0.1105\n",
      "Epoch 2/5\n",
      "43/43 [==============================] - 30s 696ms/step - loss: 2.8448 - accuracy: 0.1349\n",
      "Epoch 3/5\n",
      "43/43 [==============================] - 28s 657ms/step - loss: 2.4961 - accuracy: 0.3099\n",
      "Epoch 4/5\n",
      "43/43 [==============================] - 28s 648ms/step - loss: 1.9902 - accuracy: 0.4277\n",
      "Epoch 5/5\n",
      "43/43 [==============================] - 28s 656ms/step - loss: 1.5418 - accuracy: 0.5182\n"
     ]
    },
    {
     "data": {
      "text/plain": [
       "<tensorflow.python.keras.callbacks.History at 0x1b9f57e5288>"
      ]
     },
     "execution_count": 104,
     "metadata": {},
     "output_type": "execute_result"
    }
   ],
   "source": [
    "#Build network to recognise consonant phoneme\n",
    "consonant_phoneme_model = tf.keras.models.Sequential([\n",
    "  tf.keras.layers.experimental.preprocessing.Rescaling(1./255, input_shape=(256, 256, 3)),\n",
    "  tf.keras.layers.Conv2D(8, (3, 3), activation='relu'),\n",
    "  tf.keras.layers.MaxPooling2D(2, 2),\n",
    "  tf.keras.layers.Conv2D(8, (3, 3), activation='relu'),\n",
    "  tf.keras.layers.MaxPooling2D(2,2),\n",
    "  tf.keras.layers.Flatten(),\n",
    "  tf.keras.layers.Dense(128, activation='relu'),\n",
    "  tf.keras.layers.Dense(25, activation='softmax')\n",
    "])\n",
    "\n",
    "#Complie the network\n",
    "consonant_phoneme_model.compile(optimizer='adam', loss='sparse_categorical_crossentropy', metrics=['accuracy'])\n",
    "\n",
    "#Train the network\n",
    "consonant_phoneme_model.fit(consonant_train, consonant_phoneme_labels_train, epochs=5)"
   ]
  },
  {
   "cell_type": "code",
   "execution_count": 105,
   "metadata": {},
   "outputs": [
    {
     "name": "stdout",
     "output_type": "stream",
     "text": [
      "5/5 [==============================] - 1s 200ms/step - loss: 1.7762 - accuracy: 0.4200\n",
      "Test loss: 1.7762054204940796, Test accuracy: 41.999998688697815\n"
     ]
    }
   ],
   "source": [
    "#Test the network and print it's performance\n",
    "consonant_phoneme_test_loss, consonant_phoneme_test_accuracy = consonant_phoneme_model.evaluate(consonant_test, consonant_phoneme_labels_test)\n",
    "print ('Test loss: {}, Test accuracy: {}'.format(consonant_phoneme_test_loss, consonant_phoneme_test_accuracy*100))"
   ]
  },
  {
   "cell_type": "code",
   "execution_count": 106,
   "metadata": {},
   "outputs": [],
   "source": [
    "#Obtain decisions from both networks and concatenate into a single decision vector\n",
    "hand_shape_decision = hand_shape_model(consonant_train)\n",
    "\n",
    "consonant_phoneme_decision = consonant_phoneme_model(consonant_train)\n",
    "\n",
    "consonant_decision = join_outputs(hand_shape_decision, consonant_phoneme_decision)"
   ]
  },
  {
   "cell_type": "code",
   "execution_count": 107,
   "metadata": {},
   "outputs": [],
   "source": [
    "#Obtain test vectors to test network on\n",
    "hand_shape_decision_test = hand_shape_model(consonant_test)\n",
    "\n",
    "consonant_phoneme_decision_test = consonant_phoneme_model(consonant_test)\n",
    "\n",
    "consonant_decision_test = join_outputs(hand_shape_decision_test, consonant_phoneme_decision_test)"
   ]
  },
  {
   "cell_type": "code",
   "execution_count": 108,
   "metadata": {},
   "outputs": [
    {
     "name": "stdout",
     "output_type": "stream",
     "text": [
      "Epoch 1/30\n",
      "43/43 [==============================] - 0s 1ms/step - loss: 3.1343 - accuracy: 0.1045\n",
      "Epoch 2/30\n",
      "43/43 [==============================] - 0s 1ms/step - loss: 3.0027 - accuracy: 0.1913\n",
      "Epoch 3/30\n",
      "43/43 [==============================] - 0s 1ms/step - loss: 2.8366 - accuracy: 0.2557\n",
      "Epoch 4/30\n",
      "43/43 [==============================] - 0s 2ms/step - loss: 2.6523 - accuracy: 0.3432\n",
      "Epoch 5/30\n",
      "43/43 [==============================] - 0s 2ms/step - loss: 2.4730 - accuracy: 0.3892\n",
      "Epoch 6/30\n",
      "43/43 [==============================] - 0s 1ms/step - loss: 2.3043 - accuracy: 0.4122\n",
      "Epoch 7/30\n",
      "43/43 [==============================] - 0s 1ms/step - loss: 2.1463 - accuracy: 0.4085\n",
      "Epoch 8/30\n",
      "43/43 [==============================] - 0s 1ms/step - loss: 1.9999 - accuracy: 0.4299\n",
      "Epoch 9/30\n",
      "43/43 [==============================] - 0s 1ms/step - loss: 1.8680 - accuracy: 0.4507\n",
      "Epoch 10/30\n",
      "43/43 [==============================] - 0s 1ms/step - loss: 1.7536 - accuracy: 0.4885\n",
      "Epoch 11/30\n",
      "43/43 [==============================] - 0s 1ms/step - loss: 1.6573 - accuracy: 0.5211\n",
      "Epoch 12/30\n",
      "43/43 [==============================] - 0s 1ms/step - loss: 1.5742 - accuracy: 0.5493\n",
      "Epoch 13/30\n",
      "43/43 [==============================] - 0s 1ms/step - loss: 1.5028 - accuracy: 0.5612\n",
      "Epoch 14/30\n",
      "43/43 [==============================] - 0s 1ms/step - loss: 1.4417 - accuracy: 0.5671\n",
      "Epoch 15/30\n",
      "43/43 [==============================] - 0s 1ms/step - loss: 1.3886 - accuracy: 0.5767\n",
      "Epoch 16/30\n",
      "43/43 [==============================] - 0s 2ms/step - loss: 1.3435 - accuracy: 0.5908\n",
      "Epoch 17/30\n",
      "43/43 [==============================] - 0s 1ms/step - loss: 1.3038 - accuracy: 0.5864\n",
      "Epoch 18/30\n",
      "43/43 [==============================] - 0s 1ms/step - loss: 1.2698 - accuracy: 0.5901\n",
      "Epoch 19/30\n",
      "43/43 [==============================] - 0s 1ms/step - loss: 1.2411 - accuracy: 0.5938\n",
      "Epoch 20/30\n",
      "43/43 [==============================] - 0s 2ms/step - loss: 1.2144 - accuracy: 0.6071\n",
      "Epoch 21/30\n",
      "43/43 [==============================] - 0s 2ms/step - loss: 1.1919 - accuracy: 0.6079\n",
      "Epoch 22/30\n",
      "43/43 [==============================] - 0s 1ms/step - loss: 1.1714 - accuracy: 0.6145\n",
      "Epoch 23/30\n",
      "43/43 [==============================] - 0s 1ms/step - loss: 1.1540 - accuracy: 0.6197\n",
      "Epoch 24/30\n",
      "43/43 [==============================] - 0s 1ms/step - loss: 1.1369 - accuracy: 0.6182\n",
      "Epoch 25/30\n",
      "43/43 [==============================] - 0s 2ms/step - loss: 1.1224 - accuracy: 0.6294\n",
      "Epoch 26/30\n",
      "43/43 [==============================] - 0s 1ms/step - loss: 1.1090 - accuracy: 0.6301\n",
      "Epoch 27/30\n",
      "43/43 [==============================] - 0s 1ms/step - loss: 1.0972 - accuracy: 0.6323\n",
      "Epoch 28/30\n",
      "43/43 [==============================] - 0s 1ms/step - loss: 1.0864 - accuracy: 0.6368\n",
      "Epoch 29/30\n",
      "43/43 [==============================] - 0s 1ms/step - loss: 1.0765 - accuracy: 0.6368\n",
      "Epoch 30/30\n",
      "43/43 [==============================] - 0s 1ms/step - loss: 1.0671 - accuracy: 0.6360\n"
     ]
    },
    {
     "data": {
      "text/plain": [
       "<tensorflow.python.keras.callbacks.History at 0x1ba0b1b5708>"
      ]
     },
     "execution_count": 108,
     "metadata": {},
     "output_type": "execute_result"
    }
   ],
   "source": [
    "#Build network to make final decision of phoneme\n",
    "consonant_decision_model = tf.keras.models.Sequential([\n",
    "  tf.keras.layers.Dense(16, activation='relu'),\n",
    "  tf.keras.layers.Dense(25, activation='softmax')\n",
    "])\n",
    "\n",
    "#Compile network\n",
    "consonant_decision_model.compile(optimizer='adam', loss='sparse_categorical_crossentropy', metrics=['accuracy'])\n",
    "\n",
    "#Train network\n",
    "consonant_decision_model.fit(consonant_decision, consonant_phoneme_labels_train, epochs=30)"
   ]
  },
  {
   "cell_type": "code",
   "execution_count": 109,
   "metadata": {},
   "outputs": [
    {
     "name": "stdout",
     "output_type": "stream",
     "text": [
      "5/5 [==============================] - 0s 1ms/step - loss: 1.3508 - accuracy: 0.5133\n",
      "Test loss: 1.3507564067840576, Test accuracy: 51.33333206176758\n"
     ]
    }
   ],
   "source": [
    "#Test network and print result\n",
    "consonant_test_loss, consonant_test_accuracy = consonant_decision_model.evaluate(consonant_decision_test, consonant_phoneme_labels_test)\n",
    "print ('Test loss: {}, Test accuracy: {}'.format(consonant_test_loss, consonant_test_accuracy*100))"
   ]
  },
  {
   "cell_type": "code",
   "execution_count": 32,
   "metadata": {},
   "outputs": [],
   "source": [
    "#Grey Vowels Model"
   ]
  },
  {
   "cell_type": "code",
   "execution_count": 72,
   "metadata": {},
   "outputs": [],
   "source": [
    "#Convert images of consonants to greyscale and prepare to input into network\n",
    "grey_vowel_images = create_grey_dataset(vowels_dir)\n",
    "grey_vowel_images = grey_vowel_images.reshape(len(grey_vowel_images), 256, 256, 1)"
   ]
  },
  {
   "cell_type": "code",
   "execution_count": 73,
   "metadata": {},
   "outputs": [],
   "source": [
    "#Randomly shuffle consonant images and labels\n",
    "grey_shuffled_vowels, grey_shuffled_vowel_shape_labels, grey_shuffled_vowel_position_labels, grey_shuffled_vowel_phoneme_labels, grey_non_used = shuffle_data(grey_vowel_images, vowel_shape_labels, vowel_position_labels, vowel_phoneme_labels, not_used)\n",
    "\n",
    "#Split training and test data\n",
    "grey_vowel_train, grey_vowel_test = split_data(grey_shuffled_vowels)\n",
    "grey_vowel_shape_labels_train, grey_vowel_shape_labels_test = split_data(grey_shuffled_vowel_shape_labels)\n",
    "grey_vowel_position_labels_train, grey_vowel_position_labels_test = split_data(grey_shuffled_vowel_position_labels)\n",
    "grey_vowel_phoneme_labels_train, grey_vowel_phoneme_labels_test = split_data(grey_shuffled_vowel_phoneme_labels)"
   ]
  },
  {
   "cell_type": "code",
   "execution_count": 74,
   "metadata": {},
   "outputs": [
    {
     "name": "stdout",
     "output_type": "stream",
     "text": [
      "Epoch 1/5\n",
      "33/33 [==============================] - 32s 961ms/step - loss: 0.6519 - accuracy: 0.7672\n",
      "Epoch 2/5\n",
      "33/33 [==============================] - 31s 948ms/step - loss: 0.2453 - accuracy: 0.9243\n",
      "Epoch 3/5\n",
      "33/33 [==============================] - 32s 957ms/step - loss: 0.1449 - accuracy: 0.9631\n",
      "Epoch 4/5\n",
      "33/33 [==============================] - 30s 910ms/step - loss: 0.1096 - accuracy: 0.9719\n",
      "Epoch 5/5\n",
      "33/33 [==============================] - 32s 964ms/step - loss: 0.0863 - accuracy: 0.9835\n"
     ]
    },
    {
     "data": {
      "text/plain": [
       "<tensorflow.python.keras.callbacks.History at 0x1b9e0c7d448>"
      ]
     },
     "execution_count": 74,
     "metadata": {},
     "output_type": "execute_result"
    }
   ],
   "source": [
    "#Build the network to recognise hand position\n",
    "grey_hand_position_model = tf.keras.models.Sequential([\n",
    "  tf.keras.layers.experimental.preprocessing.Rescaling(1./255, input_shape=(256, 256, 1)),\n",
    "  tf.keras.layers.Conv2D(8, (3, 3), activation='relu'),\n",
    "  tf.keras.layers.MaxPooling2D(2, 2),\n",
    "  tf.keras.layers.Conv2D(8, (3, 3), activation='relu'),\n",
    "  tf.keras.layers.MaxPooling2D(2,2),\n",
    "  tf.keras.layers.Flatten(),\n",
    "  tf.keras.layers.Dense(128, activation='relu'),\n",
    "  tf.keras.layers.Dense(9, activation='softmax')\n",
    "])\n",
    "\n",
    "#Compile the networ\n",
    "grey_hand_position_model.compile(optimizer='adam', loss='sparse_categorical_crossentropy', metrics=['accuracy'])\n",
    "\n",
    "#Train the network\n",
    "grey_hand_position_model.fit(grey_vowel_train, grey_vowel_position_labels_train, epochs=5)"
   ]
  },
  {
   "cell_type": "code",
   "execution_count": 75,
   "metadata": {},
   "outputs": [
    {
     "name": "stdout",
     "output_type": "stream",
     "text": [
      "4/4 [==============================] - 1s 237ms/step - loss: 0.1382 - accuracy: 0.9826\n",
      "Test loss: 0.1381930559873581, Test accuracy: 98.26086759567261\n"
     ]
    }
   ],
   "source": [
    "#Test the network and print it's performance\n",
    "grey_hand_position_test_loss, grey_hand_position_test_accuracy = grey_hand_position_model.evaluate(grey_vowel_test, grey_vowel_position_labels_test)\n",
    "print ('Test loss: {}, Test accuracy: {}'.format(grey_hand_position_test_loss, grey_hand_position_test_accuracy*100))"
   ]
  },
  {
   "cell_type": "code",
   "execution_count": 76,
   "metadata": {},
   "outputs": [
    {
     "name": "stdout",
     "output_type": "stream",
     "text": [
      "Epoch 1/5\n",
      "33/33 [==============================] - 32s 969ms/step - loss: 1.8379 - accuracy: 0.5063\n",
      "Epoch 2/5\n",
      "33/33 [==============================] - 31s 930ms/step - loss: 1.1203 - accuracy: 0.6237\n",
      "Epoch 3/5\n",
      "33/33 [==============================] - 30s 915ms/step - loss: 0.9301 - accuracy: 0.6625\n",
      "Epoch 4/5\n",
      "33/33 [==============================] - 31s 929ms/step - loss: 0.8245 - accuracy: 0.7129\n",
      "Epoch 5/5\n",
      "33/33 [==============================] - 30s 917ms/step - loss: 0.7351 - accuracy: 0.7139\n"
     ]
    },
    {
     "data": {
      "text/plain": [
       "<tensorflow.python.keras.callbacks.History at 0x1b9e0db3708>"
      ]
     },
     "execution_count": 76,
     "metadata": {},
     "output_type": "execute_result"
    }
   ],
   "source": [
    "#Build network to recognise vowel phoneme\n",
    "grey_vowel_phoneme_model = tf.keras.models.Sequential([\n",
    "  tf.keras.layers.experimental.preprocessing.Rescaling(1./255, input_shape=(256, 256, 1)),\n",
    "  tf.keras.layers.Conv2D(8, (3, 3), activation='relu'),\n",
    "  tf.keras.layers.MaxPooling2D(2, 2),\n",
    "  tf.keras.layers.Conv2D(8, (3, 3), activation='relu'),\n",
    "  tf.keras.layers.MaxPooling2D(2,2),\n",
    "  tf.keras.layers.Flatten(),\n",
    "  tf.keras.layers.Dense(128, activation='relu'),\n",
    "  tf.keras.layers.Dense(25, activation='softmax')\n",
    "])\n",
    "\n",
    "#Complie the network\n",
    "grey_vowel_phoneme_model.compile(optimizer='adam', loss='sparse_categorical_crossentropy', metrics=['accuracy'])\n",
    "\n",
    "#Train the network\n",
    "grey_vowel_phoneme_model.fit(grey_vowel_train, grey_vowel_phoneme_labels_train, epochs=5)"
   ]
  },
  {
   "cell_type": "code",
   "execution_count": 77,
   "metadata": {},
   "outputs": [
    {
     "name": "stdout",
     "output_type": "stream",
     "text": [
      "4/4 [==============================] - 1s 254ms/step - loss: 1.0889 - accuracy: 0.5913\n",
      "Test loss: 1.0889414548873901, Test accuracy: 59.130436182022095\n"
     ]
    }
   ],
   "source": [
    "#Test the network and print it's performance\n",
    "grey_vowel_phoneme_test_loss, grey_vowel_phoneme_test_accuracy = grey_vowel_phoneme_model.evaluate(grey_vowel_test, grey_vowel_phoneme_labels_test)\n",
    "print ('Test loss: {}, Test accuracy: {}'.format(grey_vowel_phoneme_test_loss, grey_vowel_phoneme_test_accuracy*100))"
   ]
  },
  {
   "cell_type": "code",
   "execution_count": 78,
   "metadata": {},
   "outputs": [],
   "source": [
    "#Obtain decisions from both networks and concatenate into a single decision vector\n",
    "grey_hand_position_decision = grey_hand_position_model(grey_vowel_train)\n",
    "\n",
    "grey_vowel_phoneme_decision = grey_vowel_phoneme_model(grey_vowel_train)\n",
    "\n",
    "grey_vowel_decision = join_outputs(grey_hand_position_decision, grey_vowel_phoneme_decision)"
   ]
  },
  {
   "cell_type": "code",
   "execution_count": 79,
   "metadata": {},
   "outputs": [],
   "source": [
    "#Obtain test vectors to test network on\n",
    "grey_hand_position_decision_test = grey_hand_position_model(grey_vowel_test)\n",
    "\n",
    "grey_vowel_phoneme_decision_test = grey_vowel_phoneme_model(grey_vowel_test)\n",
    "\n",
    "grey_vowel_decision_test = join_outputs(grey_hand_position_decision_test, grey_vowel_phoneme_decision_test)"
   ]
  },
  {
   "cell_type": "code",
   "execution_count": 80,
   "metadata": {},
   "outputs": [
    {
     "name": "stdout",
     "output_type": "stream",
     "text": [
      "Epoch 1/30\n",
      "33/33 [==============================] - 0s 2ms/step - loss: 3.1442 - accuracy: 0.0873\n",
      "Epoch 2/30\n",
      "33/33 [==============================] - 0s 2ms/step - loss: 2.9739 - accuracy: 0.2357\n",
      "Epoch 3/30\n",
      "33/33 [==============================] - 0s 1ms/step - loss: 2.7386 - accuracy: 0.4607\n",
      "Epoch 4/30\n",
      "33/33 [==============================] - 0s 1ms/step - loss: 2.4316 - accuracy: 0.4597\n",
      "Epoch 5/30\n",
      "33/33 [==============================] - 0s 1ms/step - loss: 2.0889 - accuracy: 0.5199\n",
      "Epoch 6/30\n",
      "33/33 [==============================] - 0s 1ms/step - loss: 1.7834 - accuracy: 0.6295\n",
      "Epoch 7/30\n",
      "33/33 [==============================] - 0s 2ms/step - loss: 1.5529 - accuracy: 0.6440\n",
      "Epoch 8/30\n",
      "33/33 [==============================] - 0s 2ms/step - loss: 1.3922 - accuracy: 0.6499\n",
      "Epoch 9/30\n",
      "33/33 [==============================] - 0s 1ms/step - loss: 1.2752 - accuracy: 0.6508\n",
      "Epoch 10/30\n",
      "33/33 [==============================] - 0s 2ms/step - loss: 1.1879 - accuracy: 0.6518\n",
      "Epoch 11/30\n",
      "33/33 [==============================] - 0s 1ms/step - loss: 1.1197 - accuracy: 0.6518\n",
      "Epoch 12/30\n",
      "33/33 [==============================] - 0s 1ms/step - loss: 1.0646 - accuracy: 0.6518\n",
      "Epoch 13/30\n",
      "33/33 [==============================] - 0s 1ms/step - loss: 1.0201 - accuracy: 0.6518\n",
      "Epoch 14/30\n",
      "33/33 [==============================] - 0s 1ms/step - loss: 0.9833 - accuracy: 0.6518\n",
      "Epoch 15/30\n",
      "33/33 [==============================] - 0s 1ms/step - loss: 0.9510 - accuracy: 0.6518\n",
      "Epoch 16/30\n",
      "33/33 [==============================] - 0s 1ms/step - loss: 0.9239 - accuracy: 0.6518\n",
      "Epoch 17/30\n",
      "33/33 [==============================] - 0s 1ms/step - loss: 0.9000 - accuracy: 0.6557\n",
      "Epoch 18/30\n",
      "33/33 [==============================] - 0s 1ms/step - loss: 0.8791 - accuracy: 0.6693\n",
      "Epoch 19/30\n",
      "33/33 [==============================] - 0s 1ms/step - loss: 0.8606 - accuracy: 0.6799\n",
      "Epoch 20/30\n",
      "33/33 [==============================] - 0s 2ms/step - loss: 0.8436 - accuracy: 0.6857\n",
      "Epoch 21/30\n",
      "33/33 [==============================] - 0s 2ms/step - loss: 0.8289 - accuracy: 0.6906\n",
      "Epoch 22/30\n",
      "33/33 [==============================] - 0s 1ms/step - loss: 0.8145 - accuracy: 0.6974\n",
      "Epoch 23/30\n",
      "33/33 [==============================] - 0s 1ms/step - loss: 0.8036 - accuracy: 0.7013\n",
      "Epoch 24/30\n",
      "33/33 [==============================] - 0s 1ms/step - loss: 0.7908 - accuracy: 0.7013\n",
      "Epoch 25/30\n",
      "33/33 [==============================] - 0s 1ms/step - loss: 0.7799 - accuracy: 0.7071\n",
      "Epoch 26/30\n",
      "33/33 [==============================] - 0s 1ms/step - loss: 0.7705 - accuracy: 0.7119\n",
      "Epoch 27/30\n",
      "33/33 [==============================] - 0s 1ms/step - loss: 0.7602 - accuracy: 0.7110\n",
      "Epoch 28/30\n",
      "33/33 [==============================] - 0s 1ms/step - loss: 0.7517 - accuracy: 0.7129\n",
      "Epoch 29/30\n",
      "33/33 [==============================] - 0s 1ms/step - loss: 0.7428 - accuracy: 0.7168\n",
      "Epoch 30/30\n",
      "33/33 [==============================] - 0s 1ms/step - loss: 0.7364 - accuracy: 0.7216\n"
     ]
    },
    {
     "data": {
      "text/plain": [
       "<tensorflow.python.keras.callbacks.History at 0x1b9aec2e208>"
      ]
     },
     "execution_count": 80,
     "metadata": {},
     "output_type": "execute_result"
    }
   ],
   "source": [
    "#Build network to make final decision of phoneme\n",
    "grey_vowel_decision_model = tf.keras.models.Sequential([\n",
    "  tf.keras.layers.Dense(16, activation='relu'),\n",
    "  tf.keras.layers.Dense(25, activation='softmax')\n",
    "])\n",
    "\n",
    "#Compile network\n",
    "grey_vowel_decision_model.compile(optimizer='adam', loss='sparse_categorical_crossentropy', metrics=['accuracy'])\n",
    "\n",
    "#Train network\n",
    "grey_vowel_decision_model.fit(grey_vowel_decision, grey_vowel_phoneme_labels_train, epochs=30)"
   ]
  },
  {
   "cell_type": "code",
   "execution_count": 81,
   "metadata": {},
   "outputs": [
    {
     "name": "stdout",
     "output_type": "stream",
     "text": [
      "1/4 [======>.......................] - ETA: 0s - loss: 1.0629 - accuracy: 0.5938WARNING:tensorflow:Callbacks method `on_test_batch_end` is slow compared to the batch time (batch time: 0.0000s vs `on_test_batch_end` time: 0.0041s). Check your callbacks.\n",
      "4/4 [==============================] - 0s 3ms/step - loss: 0.9820 - accuracy: 0.6000\n",
      "Test loss: 0.9820446372032166, Test accuracy: 60.00000238418579\n"
     ]
    }
   ],
   "source": [
    "#Test network and print result\n",
    "grey_vowel_test_loss, grey_vowel_test_accuracy = grey_vowel_decision_model.evaluate(grey_vowel_decision_test, grey_vowel_phoneme_labels_test)\n",
    "print ('Test loss: {}, Test accuracy: {}'.format(grey_vowel_test_loss, grey_vowel_test_accuracy*100))"
   ]
  },
  {
   "cell_type": "code",
   "execution_count": 43,
   "metadata": {},
   "outputs": [],
   "source": [
    "#Grey Consonants Model"
   ]
  },
  {
   "cell_type": "code",
   "execution_count": 44,
   "metadata": {},
   "outputs": [],
   "source": [
    "#Convert images of consonants to greyscale and prepare to input into network\n",
    "grey_consonant_images = create_grey_dataset(consonants_dir)\n",
    "grey_consonant_images = grey_consonant_images.reshape(len(grey_consonant_images), 256, 256, 1)"
   ]
  },
  {
   "cell_type": "code",
   "execution_count": 45,
   "metadata": {},
   "outputs": [],
   "source": [
    "#Randomly shuffle consonant images and labels\n",
    "grey_shuffled_consonants, grey_shuffled_consonant_shape_labels, grey_shuffled_consonant_position_labels, grey_shuffled_consonant_phoneme_labels, grey_nor_this = shuffle_data(grey_consonant_images, consonant_shape_labels, consonant_position_labels, consonant_phoneme_labels, or_this)\n",
    "\n",
    "#Split training and test data\n",
    "grey_consonant_train, grey_consonant_test = split_data(grey_shuffled_consonants)\n",
    "grey_consonant_shape_labels_train, grey_consonant_shape_labels_test = split_data(grey_shuffled_consonant_shape_labels)\n",
    "grey_consonant_position_labels_train, grey_consonant_position_labels_test = split_data(grey_shuffled_consonant_position_labels)\n",
    "grey_consonant_phoneme_labels_train, grey_consonant_phoneme_labels_test = split_data(grey_shuffled_consonant_phoneme_labels)"
   ]
  },
  {
   "cell_type": "code",
   "execution_count": 83,
   "metadata": {},
   "outputs": [
    {
     "name": "stdout",
     "output_type": "stream",
     "text": [
      "Epoch 1/5\n",
      "43/43 [==============================] - 40s 936ms/step - loss: 1.9867 - accuracy: 0.2246\n",
      "Epoch 2/5\n",
      "43/43 [==============================] - 41s 948ms/step - loss: 1.7503 - accuracy: 0.3684\n",
      "Epoch 3/5\n",
      "43/43 [==============================] - 40s 933ms/step - loss: 1.4320 - accuracy: 0.5226\n",
      "Epoch 4/5\n",
      "43/43 [==============================] - 41s 949ms/step - loss: 1.1139 - accuracy: 0.6368\n",
      "Epoch 5/5\n",
      "43/43 [==============================] - 41s 955ms/step - loss: 0.8265 - accuracy: 0.7354\n"
     ]
    },
    {
     "data": {
      "text/plain": [
       "<tensorflow.python.keras.callbacks.History at 0x1b9e0f5f548>"
      ]
     },
     "execution_count": 83,
     "metadata": {},
     "output_type": "execute_result"
    }
   ],
   "source": [
    "#Build the network to recognise hand shape\n",
    "grey_hand_shape_model = tf.keras.models.Sequential([\n",
    "  tf.keras.layers.experimental.preprocessing.Rescaling(1./255, input_shape=(256, 256, 1)),\n",
    "  tf.keras.layers.Conv2D(8, (3, 3), activation='relu'),\n",
    "  tf.keras.layers.MaxPooling2D(2, 2),\n",
    "  tf.keras.layers.Conv2D(8, (3, 3), activation='relu'),\n",
    "  tf.keras.layers.MaxPooling2D(2,2),\n",
    "  tf.keras.layers.Flatten(),\n",
    "  tf.keras.layers.Dense(128, activation='relu'),\n",
    "  tf.keras.layers.Dense(9, activation='softmax')\n",
    "])\n",
    "\n",
    "#Compile the networ\n",
    "grey_hand_shape_model.compile(optimizer='adam', loss='sparse_categorical_crossentropy', metrics=['accuracy'])\n",
    "\n",
    "#Train the network\n",
    "grey_hand_shape_model.fit(grey_consonant_train, grey_consonant_shape_labels_train, epochs=5)"
   ]
  },
  {
   "cell_type": "code",
   "execution_count": 84,
   "metadata": {},
   "outputs": [
    {
     "name": "stdout",
     "output_type": "stream",
     "text": [
      "5/5 [==============================] - 1s 271ms/step - loss: 1.0187 - accuracy: 0.6333\n",
      "Test loss: 1.0186818838119507, Test accuracy: 63.333332538604736\n"
     ]
    }
   ],
   "source": [
    "#Test the network and print it's performance\n",
    "grey_hand_shape_test_loss, grey_hand_shape_test_accuracy = grey_hand_shape_model.evaluate(grey_consonant_test, grey_consonant_shape_labels_test)\n",
    "print ('Test loss: {}, Test accuracy: {}'.format(grey_hand_shape_test_loss, grey_hand_shape_test_accuracy*100))"
   ]
  },
  {
   "cell_type": "code",
   "execution_count": 48,
   "metadata": {},
   "outputs": [
    {
     "name": "stdout",
     "output_type": "stream",
     "text": [
      "Epoch 1/5\n",
      "43/43 [==============================] - 40s 928ms/step - loss: 2.9621 - accuracy: 0.1119\n",
      "Epoch 2/5\n",
      "43/43 [==============================] - 41s 942ms/step - loss: 2.6837 - accuracy: 0.2187\n",
      "Epoch 3/5\n",
      "43/43 [==============================] - 40s 924ms/step - loss: 2.4077 - accuracy: 0.3262\n",
      "Epoch 4/5\n",
      "43/43 [==============================] - 40s 940ms/step - loss: 2.0682 - accuracy: 0.4114\n",
      "Epoch 5/5\n",
      "43/43 [==============================] - 41s 946ms/step - loss: 1.7353 - accuracy: 0.4885\n"
     ]
    },
    {
     "data": {
      "text/plain": [
       "<tensorflow.python.keras.callbacks.History at 0x1b9aeaee988>"
      ]
     },
     "execution_count": 48,
     "metadata": {},
     "output_type": "execute_result"
    }
   ],
   "source": [
    "#Build network to recognise consonant phoneme\n",
    "grey_consonant_phoneme_model = tf.keras.models.Sequential([\n",
    "  tf.keras.layers.experimental.preprocessing.Rescaling(1./255, input_shape=(256, 256, 1)),\n",
    "  tf.keras.layers.Conv2D(8, (3, 3), activation='relu'),\n",
    "  tf.keras.layers.MaxPooling2D(2, 2),\n",
    "  tf.keras.layers.Conv2D(8, (3, 3), activation='relu'),\n",
    "  tf.keras.layers.MaxPooling2D(2,2),\n",
    "  tf.keras.layers.Flatten(),\n",
    "  tf.keras.layers.Dense(128, activation='relu'),\n",
    "  tf.keras.layers.Dense(25, activation='softmax')\n",
    "])\n",
    "\n",
    "#Complie the network\n",
    "grey_consonant_phoneme_model.compile(optimizer='adam', loss='sparse_categorical_crossentropy', metrics=['accuracy'])\n",
    "\n",
    "#Train the network\n",
    "grey_consonant_phoneme_model.fit(grey_consonant_train, grey_consonant_phoneme_labels_train, epochs=5)"
   ]
  },
  {
   "cell_type": "code",
   "execution_count": 49,
   "metadata": {},
   "outputs": [
    {
     "name": "stdout",
     "output_type": "stream",
     "text": [
      "5/5 [==============================] - 1s 270ms/step - loss: 2.1323 - accuracy: 0.3667\n",
      "Test loss: 2.132263660430908, Test accuracy: 36.666667461395264\n"
     ]
    }
   ],
   "source": [
    "#Test the network and print it's performance\n",
    "grey_consonant_phoneme_test_loss, grey_consonant_phoneme_test_accuracy = grey_consonant_phoneme_model.evaluate(grey_consonant_test, grey_consonant_phoneme_labels_test)\n",
    "print ('Test loss: {}, Test accuracy: {}'.format(grey_consonant_phoneme_test_loss, grey_consonant_phoneme_test_accuracy*100))"
   ]
  },
  {
   "cell_type": "code",
   "execution_count": 50,
   "metadata": {},
   "outputs": [],
   "source": [
    "#Obtain decisions from both networks and concatenate into a single decision vector\n",
    "grey_hand_shape_decision = grey_hand_shape_model(grey_consonant_train)\n",
    "\n",
    "grey_consonant_phoneme_decision = grey_consonant_phoneme_model(grey_consonant_train)\n",
    "\n",
    "grey_consonant_decision = join_outputs(grey_hand_shape_decision, grey_consonant_phoneme_decision)"
   ]
  },
  {
   "cell_type": "code",
   "execution_count": 51,
   "metadata": {},
   "outputs": [],
   "source": [
    "#Obtain test vectors to test network on\n",
    "grey_hand_shape_decision_test = grey_hand_shape_model(grey_consonant_test)\n",
    "\n",
    "grey_consonant_phoneme_decision_test = grey_consonant_phoneme_model(grey_consonant_test)\n",
    "\n",
    "grey_consonant_decision_test = join_outputs(grey_hand_shape_decision_test, grey_consonant_phoneme_decision_test)"
   ]
  },
  {
   "cell_type": "code",
   "execution_count": 52,
   "metadata": {},
   "outputs": [
    {
     "name": "stdout",
     "output_type": "stream",
     "text": [
      "Epoch 1/30\n",
      "43/43 [==============================] - 0s 2ms/step - loss: 3.1596 - accuracy: 0.0726\n",
      "Epoch 2/30\n",
      "43/43 [==============================] - 0s 2ms/step - loss: 3.0519 - accuracy: 0.1534\n",
      "Epoch 3/30\n",
      "43/43 [==============================] - 0s 2ms/step - loss: 2.9128 - accuracy: 0.2380\n",
      "Epoch 4/30\n",
      "43/43 [==============================] - 0s 2ms/step - loss: 2.7441 - accuracy: 0.3269\n",
      "Epoch 5/30\n",
      "43/43 [==============================] - 0s 2ms/step - loss: 2.5669 - accuracy: 0.4047\n",
      "Epoch 6/30\n",
      "43/43 [==============================] - 0s 2ms/step - loss: 2.3940 - accuracy: 0.4211\n",
      "Epoch 7/30\n",
      "43/43 [==============================] - 0s 2ms/step - loss: 2.2329 - accuracy: 0.4344\n",
      "Epoch 8/30\n",
      "43/43 [==============================] - 0s 2ms/step - loss: 2.0910 - accuracy: 0.4255\n",
      "Epoch 9/30\n",
      "43/43 [==============================] - 0s 2ms/step - loss: 1.9708 - accuracy: 0.4618\n",
      "Epoch 10/30\n",
      "43/43 [==============================] - 0s 2ms/step - loss: 1.8716 - accuracy: 0.4685\n",
      "Epoch 11/30\n",
      "43/43 [==============================] - 0s 2ms/step - loss: 1.7922 - accuracy: 0.4737\n",
      "Epoch 12/30\n",
      "43/43 [==============================] - 0s 2ms/step - loss: 1.7224 - accuracy: 0.4878\n",
      "Epoch 13/30\n",
      "43/43 [==============================] - 0s 2ms/step - loss: 1.6643 - accuracy: 0.4989\n",
      "Epoch 14/30\n",
      "43/43 [==============================] - 0s 1ms/step - loss: 1.6147 - accuracy: 0.4959\n",
      "Epoch 15/30\n",
      "43/43 [==============================] - 0s 2ms/step - loss: 1.5710 - accuracy: 0.4996\n",
      "Epoch 16/30\n",
      "43/43 [==============================] - 0s 2ms/step - loss: 1.5327 - accuracy: 0.5107\n",
      "Epoch 17/30\n",
      "43/43 [==============================] - 0s 2ms/step - loss: 1.4982 - accuracy: 0.5137\n",
      "Epoch 18/30\n",
      "43/43 [==============================] - 0s 2ms/step - loss: 1.4685 - accuracy: 0.5315\n",
      "Epoch 19/30\n",
      "43/43 [==============================] - 0s 2ms/step - loss: 1.4409 - accuracy: 0.5397\n",
      "Epoch 20/30\n",
      "43/43 [==============================] - 0s 2ms/step - loss: 1.4164 - accuracy: 0.5582\n",
      "Epoch 21/30\n",
      "43/43 [==============================] - 0s 2ms/step - loss: 1.3925 - accuracy: 0.5612\n",
      "Epoch 22/30\n",
      "43/43 [==============================] - 0s 2ms/step - loss: 1.3725 - accuracy: 0.5656\n",
      "Epoch 23/30\n",
      "43/43 [==============================] - 0s 2ms/step - loss: 1.3537 - accuracy: 0.5834\n",
      "Epoch 24/30\n",
      "43/43 [==============================] - 0s 1ms/step - loss: 1.3356 - accuracy: 0.5827\n",
      "Epoch 25/30\n",
      "43/43 [==============================] - 0s 2ms/step - loss: 1.3200 - accuracy: 0.5856\n",
      "Epoch 26/30\n",
      "43/43 [==============================] - 0s 2ms/step - loss: 1.3039 - accuracy: 0.5945\n",
      "Epoch 27/30\n",
      "43/43 [==============================] - 0s 2ms/step - loss: 1.2914 - accuracy: 0.5975\n",
      "Epoch 28/30\n",
      "43/43 [==============================] - 0s 2ms/step - loss: 1.2794 - accuracy: 0.5967\n",
      "Epoch 29/30\n",
      "43/43 [==============================] - 0s 2ms/step - loss: 1.2663 - accuracy: 0.5997\n",
      "Epoch 30/30\n",
      "43/43 [==============================] - 0s 1ms/step - loss: 1.2558 - accuracy: 0.5982\n"
     ]
    },
    {
     "data": {
      "text/plain": [
       "<tensorflow.python.keras.callbacks.History at 0x1b9aec45248>"
      ]
     },
     "execution_count": 52,
     "metadata": {},
     "output_type": "execute_result"
    }
   ],
   "source": [
    "#Build network to make final decision of phoneme\n",
    "grey_consonant_decision_model = tf.keras.models.Sequential([\n",
    "  tf.keras.layers.Dense(16, activation='relu'),\n",
    "  tf.keras.layers.Dense(25, activation='softmax')\n",
    "])\n",
    "\n",
    "#Compile network\n",
    "grey_consonant_decision_model.compile(optimizer='adam', loss='sparse_categorical_crossentropy', metrics=['accuracy'])\n",
    "\n",
    "#Train network\n",
    "grey_consonant_decision_model.fit(grey_consonant_decision, grey_consonant_phoneme_labels_train, epochs=30)"
   ]
  },
  {
   "cell_type": "code",
   "execution_count": 53,
   "metadata": {},
   "outputs": [
    {
     "name": "stdout",
     "output_type": "stream",
     "text": [
      "5/5 [==============================] - 0s 2ms/step - loss: 1.7051 - accuracy: 0.4200\n",
      "Test loss: 1.70505952835083, Test accuracy: 41.999998688697815\n"
     ]
    }
   ],
   "source": [
    "#Test network and print result\n",
    "grey_consonant_test_loss, grey_consonant_test_accuracy = grey_consonant_decision_model.evaluate(grey_consonant_decision_test, grey_consonant_phoneme_labels_test)\n",
    "print ('Test loss: {}, Test accuracy: {}'.format(grey_consonant_test_loss, grey_consonant_test_accuracy*100))"
   ]
  },
  {
   "cell_type": "code",
   "execution_count": null,
   "metadata": {},
   "outputs": [],
   "source": []
  },
  {
   "cell_type": "code",
   "execution_count": null,
   "metadata": {},
   "outputs": [],
   "source": []
  },
  {
   "cell_type": "code",
   "execution_count": 99,
   "metadata": {},
   "outputs": [
    {
     "data": {
      "text/plain": [
       "SVC(C=1.0, break_ties=False, cache_size=200, class_weight=None, coef0=0.0,\n",
       "    decision_function_shape='ovr', degree=3, gamma='scale', kernel='linear',\n",
       "    max_iter=-1, probability=False, random_state=None, shrinking=True,\n",
       "    tol=0.001, verbose=False)"
      ]
     },
     "execution_count": 99,
     "metadata": {},
     "output_type": "execute_result"
    }
   ],
   "source": [
    "#Build SVM classifier for vowel\n",
    "vowel_svm = svm.SVC(kernel='linear')\n",
    "\n",
    "vowel_svm.fit(vowel_decision, vowel_phoneme_labels_train)"
   ]
  },
  {
   "cell_type": "code",
   "execution_count": 100,
   "metadata": {},
   "outputs": [],
   "source": [
    "#Test SVM classifier and print accuracy\n",
    "final_vowel_decision = vowel_svm.predict(vowel_decision_test)\n",
    "\n",
    "print(\"Accuracy:\",metrics.accuracy_score(vowel_phoneme_labels_test, final_vowel_decision)*100)"
   ]
  },
  {
   "cell_type": "code",
   "execution_count": 110,
   "metadata": {},
   "outputs": [
    {
     "data": {
      "text/plain": [
       "SVC(C=1.0, break_ties=False, cache_size=200, class_weight=None, coef0=0.0,\n",
       "    decision_function_shape='ovr', degree=3, gamma='scale', kernel='linear',\n",
       "    max_iter=-1, probability=False, random_state=None, shrinking=True,\n",
       "    tol=0.001, verbose=False)"
      ]
     },
     "execution_count": 110,
     "metadata": {},
     "output_type": "execute_result"
    }
   ],
   "source": [
    "#Build SVM classifier for consonant\n",
    "consonant_svm = svm.SVC(kernel='linear')\n",
    "\n",
    "consonant_svm.fit(consonant_decision, consonant_phoneme_labels_train)"
   ]
  },
  {
   "cell_type": "code",
   "execution_count": 111,
   "metadata": {},
   "outputs": [],
   "source": [
    "#Test SVM classifier and print accuracy\n",
    "final_consonant_decision = consonant_svm.predict(consonant_decision_test)\n",
    "\n",
    "print(\"Accuracy:\",metrics.accuracy_score(consonant_phoneme_labels_test, final_consonant_decision)*100)"
   ]
  },
  {
   "cell_type": "code",
   "execution_count": null,
   "metadata": {},
   "outputs": [],
   "source": []
  },
  {
   "cell_type": "code",
   "execution_count": null,
   "metadata": {},
   "outputs": [],
   "source": []
  },
  {
   "cell_type": "code",
   "execution_count": 57,
   "metadata": {},
   "outputs": [
    {
     "data": {
      "text/plain": [
       "GaussianNB(priors=None, var_smoothing=1e-09)"
      ]
     },
     "execution_count": 57,
     "metadata": {},
     "output_type": "execute_result"
    }
   ],
   "source": [
    "#Build Naive-Bayes classifier for vowel\n",
    "vowel_nb = naive_bayes.GaussianNB()\n",
    "\n",
    "vowel_nb.fit(vowel_decision, vowel_phoneme_labels_train)"
   ]
  },
  {
   "cell_type": "code",
   "execution_count": 58,
   "metadata": {},
   "outputs": [],
   "source": [
    "#Test Naive-Bayes classifier and print accuracy\n",
    "bae_vowel_decision = vowel_nb.predict(vowel_decision_test)\n",
    "\n",
    "print(\"Accuracy:\",metrics.accuracy_score(vowel_phoneme_labels_test, bae_vowel_decision)*100)"
   ]
  },
  {
   "cell_type": "code",
   "execution_count": 63,
   "metadata": {},
   "outputs": [
    {
     "data": {
      "text/plain": [
       "GaussianNB(priors=None, var_smoothing=1e-09)"
      ]
     },
     "execution_count": 63,
     "metadata": {},
     "output_type": "execute_result"
    }
   ],
   "source": [
    "#Build Naive-Bayes classifier for consonant\n",
    "consonant_nb = naive_bayes.GaussianNB()\n",
    "\n",
    "consonant_nb.fit(consonant_decision, consonant_phoneme_labels_train)"
   ]
  },
  {
   "cell_type": "code",
   "execution_count": 66,
   "metadata": {},
   "outputs": [],
   "source": [
    "#Test Naive-Bayes classifier and print accuracy\n",
    "\n",
    "bae_consonant_decision = consonant_nb.predict(consonant_decision_test)\n",
    "\n",
    "print(\"Accuracy:\",metrics.accuracy_score(consonant_phoneme_labels_test, bae_consonant_decision)*100)"
   ]
  },
  {
   "cell_type": "code",
   "execution_count": null,
   "metadata": {},
   "outputs": [],
   "source": []
  }
 ],
 "metadata": {
  "kernelspec": {
   "display_name": "Python 3",
   "language": "python",
   "name": "python3"
  },
  "language_info": {
   "codemirror_mode": {
    "name": "ipython",
    "version": 3
   },
   "file_extension": ".py",
   "mimetype": "text/x-python",
   "name": "python",
   "nbconvert_exporter": "python",
   "pygments_lexer": "ipython3",
   "version": "3.7.6"
  }
 },
 "nbformat": 4,
 "nbformat_minor": 4
}
